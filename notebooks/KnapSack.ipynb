{
 "cells": [
  {
   "cell_type": "markdown",
   "metadata": {},
   "source": [
    "# KnapSack"
   ]
  },
  {
   "cell_type": "markdown",
   "metadata": {},
   "source": [
    "Experimento de resolução do problema da mochila usando algoritmos genéticos no framework DEAP"
   ]
  },
  {
   "cell_type": "markdown",
   "metadata": {},
   "source": [
    "## Dependências"
   ]
  },
  {
   "cell_type": "code",
   "execution_count": 167,
   "metadata": {},
   "outputs": [],
   "source": [
    "import random\n",
    "import time\n",
    "import pandas as pd\n",
    "from deap import creator, base, tools, algorithms"
   ]
  },
  {
   "cell_type": "markdown",
   "metadata": {},
   "source": [
    "## Variáveis iniciais"
   ]
  },
  {
   "cell_type": "code",
   "execution_count": 168,
   "metadata": {},
   "outputs": [],
   "source": [
    "# Lista de itens: ID, Nome do item, Valor (R$), Peso (kg)\n",
    "items = [\n",
    "    (1, \"Barraca\", 150.0, 3.5),\n",
    "    (2, \"Saco de dormir\", 100.0, 2.0),\n",
    "    (3, \"Isolante térmico\", 50.0, 0.5),\n",
    "    (4, \"Colchão inflável\", 80.0, 1.0),\n",
    "    (5, \"Lanterna\", 30.0, 0.2),\n",
    "    (6, \"Kit de primeiros socorros\", 20.0, 0.5),\n",
    "    (7, \"Repelente de insetos\", 15.0, 0.1),\n",
    "    (8, \"Protetor solar\", 20.0, 0.2),\n",
    "    (9, \"Canivete\", 10.0, 0.1),\n",
    "    (10, \"Mapa e bússola\", 25.0, 0.3),\n",
    "    (11, \"Garrafa de água\", 15.0, 1.8),\n",
    "    (12, \"Filtro de água\", 50.0, 0.5),\n",
    "    (13, \"Comida (ração liofilizada)\", 50.0, 3.0),\n",
    "    (14, \"Fogão de camping\", 70.0, 1.5),\n",
    "    (15, \"Botijão de gás\", 30.0, 1.2),\n",
    "    (16, \"Prato, talheres e caneca\", 20.0, 0.5),\n",
    "    (17, \"Roupas (conjunto)\", 80.0, 1.5),\n",
    "    (18, \"Calçados (botas)\", 120.0, 2.0),\n",
    "    (19, \"Toalha\", 20.0, 0.5),\n",
    "    (20, \"Kit de higiene pessoal\", 30.0, 0.5)\n",
    "]\n",
    "\n",
    "# Capacidade máxima da mochila em kg\n",
    "max_weight = 15.0"
   ]
  },
  {
   "cell_type": "markdown",
   "metadata": {},
   "source": [
    "## Parâmetros do algoritmo genético"
   ]
  },
  {
   "cell_type": "markdown",
   "metadata": {},
   "source": [
    "### População inicial"
   ]
  },
  {
   "cell_type": "code",
   "execution_count": 169,
   "metadata": {},
   "outputs": [],
   "source": [
    "population_size = 300"
   ]
  },
  {
   "cell_type": "markdown",
   "metadata": {},
   "source": [
    "Número de indivíduos na população inicial\n",
    "\n",
    "**Considerações**\n",
    "\n",
    "Diversidade Inicial: Um tamanho maior da população aumenta a probabilidade de <mark>exploração</mark> uma parte mais ampla do espaço de busca no início, mas populações maiores podem retardar a convergência.\n",
    "\n",
    "Convergência: Populações menores tendem a convergir mais rapidamente, favorecendo a <mark>exploitação</mark> de regiões específicas, mas podem ficar presas em mínimos locais.\n",
    "\n",
    "Custo Computacional: Populações maiores aumentam o número de avaliações de fitness por geração, o que pode aumentar o tempo de execução."
   ]
  },
  {
   "cell_type": "markdown",
   "metadata": {},
   "source": [
    "### Probabilidade individual de mutação"
   ]
  },
  {
   "cell_type": "code",
   "execution_count": 170,
   "metadata": {},
   "outputs": [],
   "source": [
    "individual_probability = 0.05"
   ]
  },
  {
   "cell_type": "markdown",
   "metadata": {},
   "source": [
    "Probabilidade de mutação de cada gene em um indivíduo (bit flip)\n",
    "\n",
    "**Considerações**\n",
    "\n",
    "Valores baixos (e.g., 0.01): Introduzem mutação esporádica, preservando a maior parte dos genes originais. É útil para pequenas alterações no indivíduo.\n",
    "\n",
    "Valores altos (e.g., 0.5): Introduzem mutação mais intensa, alterando mais genes. Pode ajudar a escapar de mínimos locais, mas corre o risco de desestabilizar soluções já boas."
   ]
  },
  {
   "cell_type": "markdown",
   "metadata": {},
   "source": [
    "### Tamanho do torneio"
   ]
  },
  {
   "cell_type": "code",
   "execution_count": 171,
   "metadata": {},
   "outputs": [],
   "source": [
    "tournament_size = 3"
   ]
  },
  {
   "cell_type": "markdown",
   "metadata": {},
   "source": [
    "Tamanho do torneio, ou número de individuos selecionados para reprodução\n",
    "\n",
    "**Brevemente, como Funciona a Seleção por Torneio:**\n",
    "\n",
    "Subconjunto Aleatório: Para cada seleção, o algoritmo escolhe aleatoriamente um grupo de indivíduos da população. O número de indivíduos nesse grupo é definido por *tournament_size*.\n",
    "\n",
    "Competição: O indivíduo com o melhor valor de fitness dentro desse grupo é selecionado.\n",
    "\n",
    "Repetição: O processo é repetido até que o número desejado de indivíduos seja selecionado.\n",
    "\n",
    "**Considerações**\n",
    "\n",
    "Valores pequenos (e.g., tournsize=2):\n",
    "\n",
    "A seleção se torna mais aleatória. Há maior diversidade na próxima geração, pois indivíduos com fitness baixos ainda têm chances razoáveis de serem selecionados. Pode ser útil no início do algoritmo, onde a <mark>exploração</mark> é mais importante.\n",
    "\n",
    "Valores grandes (e.g., tournsize=10):\n",
    "\n",
    "A seleção se torna mais elitista, favorecendo indivíduos com fitness altos. Isso acelera a convergência, mas pode levar o algoritmo a mínimos locais se a diversidade for insuficiente. Pode seu útil após achar as áreas mais favoráveis do problema pois favorece a <mark>exploitação</mark> do local.\n",
    "\n",
    "Valor igual ao tamanho da população:\n",
    "\n",
    "A seleção se torna totalmente determinística, pois sempre escolherá o indivíduo com o melhor fitness na população."
   ]
  },
  {
   "cell_type": "markdown",
   "metadata": {},
   "source": [
    "### Número de Gerações"
   ]
  },
  {
   "cell_type": "code",
   "execution_count": 172,
   "metadata": {},
   "outputs": [],
   "source": [
    "num_generations = 40"
   ]
  },
  {
   "cell_type": "markdown",
   "metadata": {},
   "source": [
    "É o número de iterações que o algoritmo genético realizará, a cada geração, a população de indivíduos evolui com base em operadores como crossover (recombinação de pais) e mutação.\n",
    "\n",
    "**Considerações**\n",
    "\n",
    "Mais gerações: Pode levar a um processo de evolução mais demorado, mas também oferece mais oportunidades para o algoritmo encontrar uma solução melhor.\n",
    "\n",
    "Menos gerações: Pode acelerar a execução, mas também aumenta o risco de o algoritmo não ter tempo suficiente para explorar adequadamente o espaço de soluções."
   ]
  },
  {
   "cell_type": "markdown",
   "metadata": {},
   "source": [
    "### Taxa de Crossover"
   ]
  },
  {
   "cell_type": "code",
   "execution_count": 173,
   "metadata": {},
   "outputs": [],
   "source": [
    "crossover_probability = 0.5"
   ]
  },
  {
   "cell_type": "markdown",
   "metadata": {},
   "source": [
    "Define a probabilidade de que dois indivíduos (pais) se cruzem para gerar um ou mais filhos. No crossover, partes dos genes de dois indivíduos são trocadas para criar novos indivíduos.\n",
    "\n",
    "**Considerações**\n",
    "\n",
    "Taxa de Crossover alta (e.g., 0.9): Mais cruzamentos entre indivíduos, promovendo mais exploração e diversidade. Pode acelerar a busca por boas soluções, mas também pode resultar em soluções mais diversificadas e não tão refinadas.\n",
    "\n",
    "Taxa de Crossover baixa (e.g., 0.1): Menos recombinação entre indivíduos, promovendo mais exploração local das soluções, o que pode ser bom para refinar uma solução existente, mas pode limitar a diversidade."
   ]
  },
  {
   "cell_type": "markdown",
   "metadata": {},
   "source": [
    "### Taxa de Mutação"
   ]
  },
  {
   "cell_type": "code",
   "execution_count": 174,
   "metadata": {},
   "outputs": [],
   "source": [
    "mutation_probability = 0.2"
   ]
  },
  {
   "cell_type": "markdown",
   "metadata": {},
   "source": [
    "Define a probabilidade de que um indivíduo sofra uma mutação em seus genes e introduz novas variações aleatórias no processo evolutivo.\n",
    "\n",
    "**Considerações**\n",
    "\n",
    "Taxa de Mutação alta (e.g., 0.5): Mais mutações, o que pode resultar em maior <mark>exploração</mark> do espaço de busca. No entanto, uma taxa muito alta pode fazer o algoritmo perder boas soluções já encontradas.\n",
    "\n",
    "Taxa de Mutação baixa (e.g., 0.01): Menos mutações, favorecendo a <mark>exploitação</mark> local de soluções e uma busca mais direcionada, mas com risco de convergência prematura (ficar preso em mínimos locais)."
   ]
  },
  {
   "cell_type": "markdown",
   "metadata": {},
   "source": [
    "### Melhores indivíduos"
   ]
  },
  {
   "cell_type": "code",
   "execution_count": 175,
   "metadata": {},
   "outputs": [],
   "source": [
    "best_individuals = 5"
   ]
  },
  {
   "cell_type": "markdown",
   "metadata": {},
   "source": [
    "Número de indivíduos selecionados ao final"
   ]
  },
  {
   "cell_type": "markdown",
   "metadata": {},
   "source": [
    "## Configuração do DEAP"
   ]
  },
  {
   "cell_type": "markdown",
   "metadata": {},
   "source": [
    "### Função de avaliação"
   ]
  },
  {
   "cell_type": "code",
   "execution_count": 176,
   "metadata": {},
   "outputs": [],
   "source": [
    "def evalKnapsack(individual):\n",
    "    total_value = 0.0  # Valor total da mochila\n",
    "    total_weight = 0.0  # Peso total da mochila\n",
    "\n",
    "    for i, selected in enumerate(individual):\n",
    "        if selected:  # Se o item foi selecionado\n",
    "            total_value += items[i][2]  # Soma o valor do item ao total\n",
    "            total_weight += items[i][3]  # Soma o peso do item ao total\n",
    "\n",
    "    # Penaliza soluções que ultrapassam o peso máximo\n",
    "    if total_weight > max_weight:\n",
    "        return -1,  # Penalidade\n",
    "    return total_value, # Retorna o valor total como fitness para soluções válidas"
   ]
  },
  {
   "cell_type": "markdown",
   "metadata": {},
   "source": [
    "### Montagem do algoritmo"
   ]
  },
  {
   "cell_type": "code",
   "execution_count": 177,
   "metadata": {},
   "outputs": [
    {
     "name": "stderr",
     "output_type": "stream",
     "text": [
      "c:\\ProgramData\\Miniconda3\\envs\\scipy\\Lib\\site-packages\\deap\\creator.py:185: RuntimeWarning: A class named 'FitnessMax' has already been created and it will be overwritten. Consider deleting previous creation of that class or rename it.\n",
      "  warnings.warn(\"A class named '{0}' has already been created and it \"\n",
      "c:\\ProgramData\\Miniconda3\\envs\\scipy\\Lib\\site-packages\\deap\\creator.py:185: RuntimeWarning: A class named 'Individual' has already been created and it will be overwritten. Consider deleting previous creation of that class or rename it.\n",
      "  warnings.warn(\"A class named '{0}' has already been created and it \"\n"
     ]
    }
   ],
   "source": [
    "# Cria um tipo de \"fitness\" para maximizar um único valor (peso positivo indica maximização).\n",
    "creator.create(\"FitnessMax\", base.Fitness, weights=(1.0,))\n",
    "\n",
    "# Define um indivíduo como uma lista que possui um fitness do tipo \"FitnessMax\".\n",
    "creator.create(\"Individual\", list, fitness=creator.FitnessMax)\n",
    "\n",
    "# Caixa de ferramentas para registrar funções que geram e operam sobre os indivíduos.\n",
    "toolbox = base.Toolbox()\n",
    "\n",
    "# Representação binária dos itens (0 ou 1 para incluir ou não incluir)\n",
    "toolbox.register(\"attr_bool\", random.randint, 0, 1)\n",
    "\n",
    "# Registra um indivíduo como uma lista de genes de comprimento igual ao número de itens.\n",
    "toolbox.register(\"individual\", tools.initRepeat, creator.Individual, toolbox.attr_bool, n=len(items))\n",
    "\n",
    "# Registra uma população como uma lista de indivíduos.\n",
    "toolbox.register(\"population\", tools.initRepeat, list, toolbox.individual)\n",
    "\n",
    "# Registra a função de avaliação no toolbox.\n",
    "toolbox.register(\"evaluate\", evalKnapsack)\n",
    "\n",
    "# Registra o operador de crossover de dois pontos no toolbox.\n",
    "toolbox.register(\"mate\", tools.cxTwoPoint)\n",
    "\n",
    "# Registra o operador de mutação.\n",
    "toolbox.register(\"mutate\", tools.mutFlipBit, indpb=individual_probability)\n",
    "\n",
    "# Registra o operador de seleção por torneio.\n",
    "toolbox.register(\"select\", tools.selTournament, tournsize=tournament_size)\n",
    "\n",
    "# Gera a população inicial\n",
    "population = toolbox.population(n=population_size)"
   ]
  },
  {
   "cell_type": "markdown",
   "metadata": {},
   "source": [
    "## Execução"
   ]
  },
  {
   "cell_type": "code",
   "execution_count": 178,
   "metadata": {},
   "outputs": [],
   "source": [
    "# Registra o tempo de início\n",
    "start_time = time.time()\n",
    "\n",
    "# Execução do algoritmo\n",
    "for gen in range(num_generations):\n",
    "\n",
    "    # Gera novos indivíduos (offspring) a partir da população atual aplicando crossover e mutação.\n",
    "    offspring = algorithms.varAnd(population, toolbox, cxpb=crossover_probability, mutpb=mutation_probability)\n",
    "\n",
    "    # Calcula os valores de fitness para cada indivíduo da nova geração.\n",
    "    fits = toolbox.map(toolbox.evaluate, offspring)\n",
    "    for fit, ind in zip(fits, offspring):\n",
    "        ind.fitness.values = fit  # Atribui o fitness calculado aos indivíduos.\n",
    "\n",
    "    population = toolbox.select(offspring, k=len(population))\n",
    "\n",
    "# Seleciona n melhores indivíduos.\n",
    "top_individuals = tools.selBest(population, k=best_individuals)\n",
    "\n",
    "# Registra o tempo de término\n",
    "end_time = time.time()\n",
    "\n",
    "# Calcula o tempo total de execução\n",
    "execution_time = end_time - start_time"
   ]
  },
  {
   "cell_type": "markdown",
   "metadata": {},
   "source": [
    "## Resultados (Melhor indivíduo)"
   ]
  },
  {
   "cell_type": "code",
   "execution_count": 179,
   "metadata": {},
   "outputs": [],
   "source": [
    "# Seleciona o melhor indivíduo.\n",
    "best_individual = top_individuals[0]\n",
    "\n",
    "# Identifica os itens selecionados no melhor indivíduo.\n",
    "selected_items = [items[i] for i in range(len(best_individual)) if best_individual[i] == 1]"
   ]
  },
  {
   "cell_type": "code",
   "execution_count": 180,
   "metadata": {},
   "outputs": [
    {
     "name": "stdout",
     "output_type": "stream",
     "text": [
      "Itens selecionados:\n"
     ]
    },
    {
     "data": {
      "text/html": [
       "<div>\n",
       "<style scoped>\n",
       "    .dataframe tbody tr th:only-of-type {\n",
       "        vertical-align: middle;\n",
       "    }\n",
       "\n",
       "    .dataframe tbody tr th {\n",
       "        vertical-align: top;\n",
       "    }\n",
       "\n",
       "    .dataframe thead th {\n",
       "        text-align: right;\n",
       "    }\n",
       "</style>\n",
       "<table border=\"1\" class=\"dataframe\">\n",
       "  <thead>\n",
       "    <tr style=\"text-align: right;\">\n",
       "      <th></th>\n",
       "      <th>Nome do item</th>\n",
       "      <th>Valor (R$)</th>\n",
       "      <th>Peso (kg)</th>\n",
       "    </tr>\n",
       "  </thead>\n",
       "  <tbody>\n",
       "    <tr>\n",
       "      <th>0</th>\n",
       "      <td>Barraca</td>\n",
       "      <td>150.0</td>\n",
       "      <td>3.5</td>\n",
       "    </tr>\n",
       "    <tr>\n",
       "      <th>1</th>\n",
       "      <td>Saco de dormir</td>\n",
       "      <td>100.0</td>\n",
       "      <td>2.0</td>\n",
       "    </tr>\n",
       "    <tr>\n",
       "      <th>2</th>\n",
       "      <td>Isolante térmico</td>\n",
       "      <td>50.0</td>\n",
       "      <td>0.5</td>\n",
       "    </tr>\n",
       "    <tr>\n",
       "      <th>3</th>\n",
       "      <td>Colchão inflável</td>\n",
       "      <td>80.0</td>\n",
       "      <td>1.0</td>\n",
       "    </tr>\n",
       "    <tr>\n",
       "      <th>4</th>\n",
       "      <td>Lanterna</td>\n",
       "      <td>30.0</td>\n",
       "      <td>0.2</td>\n",
       "    </tr>\n",
       "    <tr>\n",
       "      <th>5</th>\n",
       "      <td>Repelente de insetos</td>\n",
       "      <td>15.0</td>\n",
       "      <td>0.1</td>\n",
       "    </tr>\n",
       "    <tr>\n",
       "      <th>6</th>\n",
       "      <td>Protetor solar</td>\n",
       "      <td>20.0</td>\n",
       "      <td>0.2</td>\n",
       "    </tr>\n",
       "    <tr>\n",
       "      <th>7</th>\n",
       "      <td>Canivete</td>\n",
       "      <td>10.0</td>\n",
       "      <td>0.1</td>\n",
       "    </tr>\n",
       "    <tr>\n",
       "      <th>8</th>\n",
       "      <td>Mapa e bússola</td>\n",
       "      <td>25.0</td>\n",
       "      <td>0.3</td>\n",
       "    </tr>\n",
       "    <tr>\n",
       "      <th>9</th>\n",
       "      <td>Filtro de água</td>\n",
       "      <td>50.0</td>\n",
       "      <td>0.5</td>\n",
       "    </tr>\n",
       "    <tr>\n",
       "      <th>10</th>\n",
       "      <td>Fogão de camping</td>\n",
       "      <td>70.0</td>\n",
       "      <td>1.5</td>\n",
       "    </tr>\n",
       "    <tr>\n",
       "      <th>11</th>\n",
       "      <td>Prato, talheres e caneca</td>\n",
       "      <td>20.0</td>\n",
       "      <td>0.5</td>\n",
       "    </tr>\n",
       "    <tr>\n",
       "      <th>12</th>\n",
       "      <td>Roupas (conjunto)</td>\n",
       "      <td>80.0</td>\n",
       "      <td>1.5</td>\n",
       "    </tr>\n",
       "    <tr>\n",
       "      <th>13</th>\n",
       "      <td>Calçados (botas)</td>\n",
       "      <td>120.0</td>\n",
       "      <td>2.0</td>\n",
       "    </tr>\n",
       "    <tr>\n",
       "      <th>14</th>\n",
       "      <td>Toalha</td>\n",
       "      <td>20.0</td>\n",
       "      <td>0.5</td>\n",
       "    </tr>\n",
       "    <tr>\n",
       "      <th>15</th>\n",
       "      <td>Kit de higiene pessoal</td>\n",
       "      <td>30.0</td>\n",
       "      <td>0.5</td>\n",
       "    </tr>\n",
       "  </tbody>\n",
       "</table>\n",
       "</div>"
      ],
      "text/plain": [
       "                Nome do item  Valor (R$)  Peso (kg)\n",
       "0                    Barraca       150.0        3.5\n",
       "1             Saco de dormir       100.0        2.0\n",
       "2           Isolante térmico        50.0        0.5\n",
       "3           Colchão inflável        80.0        1.0\n",
       "4                   Lanterna        30.0        0.2\n",
       "5       Repelente de insetos        15.0        0.1\n",
       "6             Protetor solar        20.0        0.2\n",
       "7                   Canivete        10.0        0.1\n",
       "8             Mapa e bússola        25.0        0.3\n",
       "9             Filtro de água        50.0        0.5\n",
       "10          Fogão de camping        70.0        1.5\n",
       "11  Prato, talheres e caneca        20.0        0.5\n",
       "12         Roupas (conjunto)        80.0        1.5\n",
       "13          Calçados (botas)       120.0        2.0\n",
       "14                    Toalha        20.0        0.5\n",
       "15    Kit de higiene pessoal        30.0        0.5"
      ]
     },
     "execution_count": 180,
     "metadata": {},
     "output_type": "execute_result"
    }
   ],
   "source": [
    "# Criação do DataFrame com os itens selecionados pelo melhor indivíduo\n",
    "selected_items_data = [{\n",
    "    'Nome do item': item[1],\n",
    "    'Valor (R$)': item[2],\n",
    "    'Peso (kg)': item[3]\n",
    "} for item in selected_items]\n",
    "\n",
    "df_selected_items = pd.DataFrame(selected_items_data)\n",
    "\n",
    "print(\"Itens selecionados:\")\n",
    "df_selected_items.head(len(items))"
   ]
  },
  {
   "cell_type": "code",
   "execution_count": 181,
   "metadata": {},
   "outputs": [
    {
     "name": "stdout",
     "output_type": "stream",
     "text": [
      "Valor total: R$870.00\n"
     ]
    }
   ],
   "source": [
    "# Imprime o valor total dos itens na mochila.\n",
    "print(f\"Valor total: R${sum(item[2] for item in selected_items):.2f}\")"
   ]
  },
  {
   "cell_type": "code",
   "execution_count": 182,
   "metadata": {},
   "outputs": [
    {
     "name": "stdout",
     "output_type": "stream",
     "text": [
      "Peso total: 14.90kg\n"
     ]
    }
   ],
   "source": [
    "# Imprime o peso total dos itens na mochila.\n",
    "print(f\"Peso total: {sum(item[3] for item in selected_items):.2f}kg\")"
   ]
  },
  {
   "cell_type": "code",
   "execution_count": 183,
   "metadata": {},
   "outputs": [
    {
     "name": "stdout",
     "output_type": "stream",
     "text": [
      "Tempo de execução (evolução somente): 0.2124 segundos\n"
     ]
    }
   ],
   "source": [
    "# Imprime o tempo de execução\n",
    "print(f\"Tempo de execução (evolução somente): {execution_time:.4f} segundos\")"
   ]
  }
 ],
 "metadata": {
  "kernelspec": {
   "display_name": "scipy",
   "language": "python",
   "name": "python3"
  },
  "language_info": {
   "codemirror_mode": {
    "name": "ipython",
    "version": 3
   },
   "file_extension": ".py",
   "mimetype": "text/x-python",
   "name": "python",
   "nbconvert_exporter": "python",
   "pygments_lexer": "ipython3",
   "version": "3.11.9"
  }
 },
 "nbformat": 4,
 "nbformat_minor": 2
}
