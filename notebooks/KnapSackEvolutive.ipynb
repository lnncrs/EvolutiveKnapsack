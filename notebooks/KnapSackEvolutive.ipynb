{
 "cells": [
  {
   "cell_type": "markdown",
   "metadata": {},
   "source": [
    "# KnapSackEvolutive"
   ]
  },
  {
   "cell_type": "markdown",
   "metadata": {},
   "source": [
    "Experimento de resolução do problema da mochila usando algoritmos genéticos"
   ]
  },
  {
   "cell_type": "markdown",
   "metadata": {},
   "source": [
    "## Dependências"
   ]
  },
  {
   "cell_type": "code",
   "execution_count": 599,
   "metadata": {},
   "outputs": [],
   "source": [
    "import random\n",
    "import time\n",
    "import pandas as pd"
   ]
  },
  {
   "cell_type": "markdown",
   "metadata": {},
   "source": [
    "## Variáveis iniciais"
   ]
  },
  {
   "cell_type": "code",
   "execution_count": 600,
   "metadata": {},
   "outputs": [],
   "source": [
    "# Lista de itens: ID, Nome do item, Valor (R$), Peso (kg)\n",
    "items = [\n",
    "    (1, \"Barraca\", 150.0, 3.5),\n",
    "    (2, \"Saco de dormir\", 100.0, 2.0),\n",
    "    (3, \"Isolante térmico\", 50.0, 0.5),\n",
    "    (4, \"Colchão inflável\", 80.0, 1.0),\n",
    "    (5, \"Lanterna\", 30.0, 0.2),\n",
    "    (6, \"Kit de primeiros socorros\", 20.0, 0.5),\n",
    "    (7, \"Repelente de insetos\", 15.0, 0.1),\n",
    "    (8, \"Protetor solar\", 20.0, 0.2),\n",
    "    (9, \"Canivete\", 10.0, 0.1),\n",
    "    (10, \"Mapa e bússola\", 25.0, 0.3),\n",
    "    (11, \"Garrafa de água\", 15.0, 1.8),\n",
    "    (12, \"Filtro de água\", 50.0, 0.5),\n",
    "    (13, \"Comida (ração liofilizada)\", 50.0, 3.0),\n",
    "    (14, \"Fogão de camping\", 70.0, 1.5),\n",
    "    (15, \"Botijão de gás\", 30.0, 1.2),\n",
    "    (16, \"Prato, talheres e caneca\", 20.0, 0.5),\n",
    "    (17, \"Roupas (conjunto)\", 80.0, 1.5),\n",
    "    (18, \"Calçados (botas)\", 120.0, 2.0),\n",
    "    (19, \"Toalha\", 20.0, 0.5),\n",
    "    (20, \"Kit de higiene pessoal\", 30.0, 0.5)\n",
    "]\n",
    "\n",
    "# Capacidade máxima da mochila em kg\n",
    "max_weight = 15.0"
   ]
  },
  {
   "cell_type": "markdown",
   "metadata": {},
   "source": [
    "## Parâmetros do algoritmo genético"
   ]
  },
  {
   "cell_type": "markdown",
   "metadata": {},
   "source": [
    "### Tamanho do cromossomo"
   ]
  },
  {
   "cell_type": "code",
   "execution_count": 601,
   "metadata": {},
   "outputs": [],
   "source": [
    "chromosome_length = len(items)"
   ]
  },
  {
   "cell_type": "markdown",
   "metadata": {},
   "source": [
    "É o numero de cromossomos em cada indivíduo, é fixo no tamanho da lista disponível"
   ]
  },
  {
   "cell_type": "markdown",
   "metadata": {},
   "source": [
    "### População inicial"
   ]
  },
  {
   "cell_type": "code",
   "execution_count": 602,
   "metadata": {},
   "outputs": [],
   "source": [
    "population_size = 1000"
   ]
  },
  {
   "cell_type": "markdown",
   "metadata": {},
   "source": [
    "Número de indivíduos na população inicial\n",
    "\n",
    "**Considerações**\n",
    "\n",
    "Diversidade Inicial: Um tamanho maior da população aumenta a probabilidade de <mark>exploração</mark> uma parte mais ampla do espaço de busca no início, mas populações maiores podem retardar a convergência.\n",
    "\n",
    "Convergência: Populações menores tendem a convergir mais rapidamente, favorecendo a <mark>exploitação</mark> de regiões específicas, mas podem ficar presas em mínimos locais.\n",
    "\n",
    "Custo Computacional: Populações maiores aumentam o número de avaliações de fitness por geração, o que pode aumentar o tempo de execução."
   ]
  },
  {
   "cell_type": "markdown",
   "metadata": {},
   "source": [
    "### Número de Gerações"
   ]
  },
  {
   "cell_type": "code",
   "execution_count": 603,
   "metadata": {},
   "outputs": [],
   "source": [
    "num_generations = 50"
   ]
  },
  {
   "cell_type": "markdown",
   "metadata": {},
   "source": [
    "É o número de iterações que o algoritmo genético realizará, a cada geração, a população de indivíduos evolui com base em operadores como crossover (recombinação de pais) e mutação.\n",
    "\n",
    "**Considerações**\n",
    "\n",
    "Mais gerações: Pode levar a um processo de evolução mais demorado, mas também oferece mais oportunidades para o algoritmo encontrar uma solução melhor.\n",
    "\n",
    "Menos gerações: Pode acelerar a execução, mas também aumenta o risco de o algoritmo não ter tempo suficiente para explorar adequadamente o espaço de soluções."
   ]
  },
  {
   "cell_type": "markdown",
   "metadata": {},
   "source": [
    "### Tamanho do torneio"
   ]
  },
  {
   "cell_type": "code",
   "execution_count": 604,
   "metadata": {},
   "outputs": [],
   "source": [
    "tournament_size = 15"
   ]
  },
  {
   "cell_type": "markdown",
   "metadata": {},
   "source": [
    "Tamanho do torneio, ou número de individuos selecionados para reprodução\n",
    "\n",
    "**Brevemente, como Funciona a Seleção por Torneio:**\n",
    "\n",
    "Subconjunto Aleatório: Para cada seleção, o algoritmo escolhe aleatoriamente um grupo de indivíduos da população. O número de indivíduos nesse grupo é definido por *tournament_size*.\n",
    "\n",
    "Competição: O indivíduo com o melhor valor de fitness dentro desse grupo é selecionado.\n",
    "\n",
    "Repetição: O processo é repetido até que o número desejado de indivíduos seja selecionado.\n",
    "\n",
    "**Considerações**\n",
    "\n",
    "Valores pequenos (e.g., tournsize=2):\n",
    "\n",
    "A seleção se torna mais aleatória. Há maior diversidade na próxima geração, pois indivíduos com fitness baixos ainda têm chances razoáveis de serem selecionados. Pode ser útil no início do algoritmo, onde a <mark>exploração</mark> é mais importante.\n",
    "\n",
    "Valores grandes (e.g., tournsize=10):\n",
    "\n",
    "A seleção se torna mais elitista, favorecendo indivíduos com fitness altos. Isso acelera a convergência, mas pode levar o algoritmo a mínimos locais se a diversidade for insuficiente. Pode seu útil após achar as áreas mais favoráveis do problema pois favorece a <mark>exploitação</mark> do local.\n",
    "\n",
    "Valor igual ao tamanho da população:\n",
    "\n",
    "A seleção se torna totalmente determinística, pois sempre escolherá o indivíduo com o melhor fitness na população."
   ]
  },
  {
   "cell_type": "markdown",
   "metadata": {},
   "source": [
    "### Taxa de Crossover"
   ]
  },
  {
   "cell_type": "code",
   "execution_count": 605,
   "metadata": {},
   "outputs": [],
   "source": [
    "crossover_probability = 0.5"
   ]
  },
  {
   "cell_type": "markdown",
   "metadata": {},
   "source": [
    "Define a probabilidade de que dois indivíduos (pais) se cruzem para gerar um ou mais filhos. No crossover, partes dos genes de dois indivíduos são trocadas para criar novos indivíduos.\n",
    "\n",
    "**Considerações**\n",
    "\n",
    "Taxa de Crossover alta (e.g., 0.9): Mais cruzamentos entre indivíduos, promovendo mais exploração e diversidade. Pode acelerar a busca por boas soluções, mas também pode resultar em soluções mais diversificadas e não tão refinadas.\n",
    "\n",
    "Taxa de Crossover baixa (e.g., 0.1): Menos recombinação entre indivíduos, promovendo mais exploração local das soluções, o que pode ser bom para refinar uma solução existente, mas pode limitar a diversidade."
   ]
  },
  {
   "cell_type": "markdown",
   "metadata": {},
   "source": [
    "### Taxa de Mutação"
   ]
  },
  {
   "cell_type": "code",
   "execution_count": 606,
   "metadata": {},
   "outputs": [],
   "source": [
    "mutation_probability = 0.2"
   ]
  },
  {
   "cell_type": "markdown",
   "metadata": {},
   "source": [
    "Define a probabilidade de que um indivíduo sofra uma mutação em seus genes e introduz novas variações aleatórias no processo evolutivo.\n",
    "\n",
    "**Considerações**\n",
    "\n",
    "Taxa de Mutação alta (e.g., 0.5): Mais mutações, o que pode resultar em maior <mark>exploração</mark> do espaço de busca. No entanto, uma taxa muito alta pode fazer o algoritmo perder boas soluções já encontradas.\n",
    "\n",
    "Taxa de Mutação baixa (e.g., 0.01): Menos mutações, favorecendo a <mark>exploitação</mark> local de soluções e uma busca mais direcionada, mas com risco de convergência prematura (ficar preso em mínimos locais)."
   ]
  },
  {
   "cell_type": "markdown",
   "metadata": {},
   "source": [
    "### Probabilidade individual de mutação"
   ]
  },
  {
   "cell_type": "code",
   "execution_count": 607,
   "metadata": {},
   "outputs": [],
   "source": [
    "individual_probability = 0.05"
   ]
  },
  {
   "cell_type": "markdown",
   "metadata": {},
   "source": [
    "Probabilidade de mutação de cada gene em um indivíduo (bit flip)\n",
    "\n",
    "**Considerações**\n",
    "\n",
    "Valores baixos (e.g., 0.01): Introduzem mutação esporádica, preservando a maior parte dos genes originais. É útil para pequenas alterações no indivíduo.\n",
    "\n",
    "Valores altos (e.g., 0.5): Introduzem mutação mais intensa, alterando mais genes. Pode ajudar a escapar de mínimos locais, mas corre o risco de desestabilizar soluções já boas."
   ]
  },
  {
   "cell_type": "markdown",
   "metadata": {},
   "source": [
    "### Melhores indivíduos"
   ]
  },
  {
   "cell_type": "code",
   "execution_count": 608,
   "metadata": {},
   "outputs": [],
   "source": [
    "best_individuals = 5"
   ]
  },
  {
   "cell_type": "markdown",
   "metadata": {},
   "source": [
    "Número de indivíduos selecionados ao final"
   ]
  },
  {
   "cell_type": "markdown",
   "metadata": {},
   "source": [
    "## Funções"
   ]
  },
  {
   "cell_type": "markdown",
   "metadata": {},
   "source": [
    "### Fitness"
   ]
  },
  {
   "cell_type": "code",
   "execution_count": 609,
   "metadata": {},
   "outputs": [],
   "source": [
    "# Calcula o valor total dos itens na mochila e penaliza se o peso máximo for excedido\n",
    "def fitness_function(individual):\n",
    "    total_value = 0\n",
    "    total_weight = 0\n",
    "    for gene, item in zip(individual, items):\n",
    "        if gene == 1:\n",
    "            total_value += item[2]\n",
    "            total_weight += item[3]\n",
    "    return total_value if total_weight <= max_weight else -1"
   ]
  },
  {
   "cell_type": "markdown",
   "metadata": {},
   "source": [
    "### Populacionais"
   ]
  },
  {
   "cell_type": "code",
   "execution_count": 610,
   "metadata": {},
   "outputs": [],
   "source": [
    "# Geração inicial da população\n",
    "def population_generate(population_size, chromosome_length):\n",
    "    return [\n",
    "        (random.choices([0, 1], k=chromosome_length), 0) for _ in range(population_size)\n",
    "    ]\n",
    "\n",
    "\n",
    "# Avaliação da população\n",
    "def population_evaluate(population, fitness_func):\n",
    "    for i, (chromosome, _) in enumerate(population):\n",
    "        population[i] = (chromosome, fitness_func(chromosome))\n",
    "    return population"
   ]
  },
  {
   "cell_type": "markdown",
   "metadata": {},
   "source": [
    "### Seleção por divisão tripla (**B**, **T**, **R**)"
   ]
  },
  {
   "cell_type": "code",
   "execution_count": 611,
   "metadata": {},
   "outputs": [],
   "source": [
    "# Seleção de indivíduos (elitismo, torneio, aleatório)\n",
    "def population_select_triple(population, tournament_size):\n",
    "    B = sorted(population, key=lambda x: x[1], reverse=True)[:tournament_size]  # Elitismo\n",
    "    T = [random.choice(sorted(random.sample(population, tournament_size), key=lambda x: x[1], reverse=True)) for _ in range(tournament_size)] # Torneio\n",
    "    R = random.sample(population, tournament_size) # Aleatório\n",
    "    return B, T, R"
   ]
  },
  {
   "cell_type": "markdown",
   "metadata": {},
   "source": [
    "## Operadores"
   ]
  },
  {
   "cell_type": "markdown",
   "metadata": {},
   "source": [
    "### Reprodução"
   ]
  },
  {
   "cell_type": "code",
   "execution_count": 612,
   "metadata": {},
   "outputs": [],
   "source": [
    "# Operador de reprodução\n",
    "def operator_mating(parent1, parent2, crossover_probability):\n",
    "    if random.random() < crossover_probability:\n",
    "        child1 = [random.choice(genes) for genes in zip(parent1, parent2)]\n",
    "        child2 = [random.choice(genes) for genes in zip(parent1, parent2)]\n",
    "    else:\n",
    "        child1, child2 = parent1[:], parent2[:]\n",
    "    return child1, child2"
   ]
  },
  {
   "cell_type": "markdown",
   "metadata": {},
   "source": [
    "### Mutação"
   ]
  },
  {
   "cell_type": "code",
   "execution_count": 613,
   "metadata": {},
   "outputs": [],
   "source": [
    "# Operador de mutação\n",
    "def operator_xmen(individual, mutation_probability, individual_probability):\n",
    "    if random.random() < mutation_probability:\n",
    "        return [1 - gene if random.random() < individual_probability else gene for gene in individual]\n",
    "    return individual[:]"
   ]
  },
  {
   "cell_type": "markdown",
   "metadata": {},
   "source": [
    "## Algoritmo & Execução"
   ]
  },
  {
   "cell_type": "code",
   "execution_count": 614,
   "metadata": {},
   "outputs": [],
   "source": [
    "# Geração inicial e avaliação inicial da população\n",
    "population = population_generate(population_size, chromosome_length)\n",
    "population = population_evaluate(population, fitness_function)\n",
    "\n",
    "# Registra o tempo de início\n",
    "start_time = time.time()\n",
    "\n",
    "# Loop principal do algoritmo genético com o número de gerações\n",
    "for generation in range(num_generations):\n",
    "\n",
    "    # Seleção dos três grupos\n",
    "    B, T, R = population_select_triple(population, tournament_size)\n",
    "\n",
    "    # Reprodução nos trê grupos\n",
    "    offspring_B = []\n",
    "    for _ in range(len(B) // 2):\n",
    "        p1, p2 = random.sample(B, 2)\n",
    "        child1, child2 = operator_mating(p1[0], p2[0], crossover_probability)\n",
    "        offspring_B.append((child1, 0))\n",
    "        offspring_B.append((child2, 0))\n",
    "\n",
    "    offspring_T = []\n",
    "    for _ in range(len(T) // 2):\n",
    "        p1, p2 = random.sample(T, 2)\n",
    "        child1, child2 = operator_mating(p1[0], p2[0], crossover_probability)\n",
    "        offspring_T.append((child1, 0))\n",
    "        offspring_T.append((child2, 0))\n",
    "\n",
    "    offspring_R = []\n",
    "    for _ in range(len(R) // 2):\n",
    "        p1, p2 = random.sample(R, 2)\n",
    "        child1, child2 = operator_mating(p1[0], p2[0], crossover_probability)\n",
    "        offspring_R.append((child1, 0))\n",
    "        offspring_R.append((child2, 0))\n",
    "\n",
    "    # Mutação nos três grupos\n",
    "    xmen_B = [(operator_xmen(ind[0], mutation_probability, individual_probability), ind[1]) for ind in B]\n",
    "\n",
    "    xmen_T = [(operator_xmen(ind[0], mutation_probability, individual_probability), ind[1]) for ind in T]\n",
    "\n",
    "    xmen_R = [(operator_xmen(ind[0], mutation_probability, individual_probability), ind[1]) for ind in R]\n",
    "\n",
    "    # Combinação dos grupos\n",
    "    combined = B + T + R\n",
    "\n",
    "    # Reprodução cruzada\n",
    "    offspring_BTR = []\n",
    "    for _ in range(len(combined) // 2):\n",
    "        p1, p2 = random.sample(combined, 2)\n",
    "        child1, child2 = operator_mating(p1[0], p2[0], crossover_probability)\n",
    "        offspring_BTR.append((child1, 0))\n",
    "        offspring_BTR.append((child2, 0))\n",
    "\n",
    "    # Mutação cruzada\n",
    "    xmen_BTR = [(operator_xmen(ind[0], mutation_probability, individual_probability), 0) for ind in combined]\n",
    "\n",
    "    descendants = offspring_B + offspring_T + offspring_R + offspring_BTR + xmen_B + xmen_T + xmen_R + xmen_BTR\n",
    "\n",
    "    # Reavaliação da população\n",
    "    population = population_evaluate(descendants, fitness_function)\n",
    "\n",
    "    # Ordenação e manutenção dos melhores\n",
    "    population = sorted(population, key=lambda x: x[1], reverse=True)[:population_size]\n",
    "\n",
    "# Registra o tempo de término\n",
    "end_time = time.time()\n",
    "\n",
    "# Calcula o tempo total de execução\n",
    "execution_time = end_time - start_time\n",
    "\n",
    "# Seleção dos melhores indivíduos finais\n",
    "top_individuals = sorted(population, key=lambda x: x[1], reverse=True)[:best_individuals]"
   ]
  },
  {
   "cell_type": "markdown",
   "metadata": {},
   "source": [
    "## Resultados"
   ]
  },
  {
   "cell_type": "code",
   "execution_count": 615,
   "metadata": {},
   "outputs": [
    {
     "name": "stdout",
     "output_type": "stream",
     "text": [
      "Melhores indivíduos:\n",
      "Cromossomo: [1, 1, 1, 1, 1, 0, 1, 1, 1, 1, 0, 1, 0, 1, 0, 1, 1, 1, 1, 1], Fitness: 870.0, Valor Total: 870.00, Peso Total: 14.90\n",
      "Cromossomo: [1, 1, 1, 1, 1, 0, 1, 1, 1, 1, 0, 1, 0, 1, 0, 1, 1, 1, 1, 1], Fitness: 870.0, Valor Total: 870.00, Peso Total: 14.90\n",
      "Cromossomo: [1, 1, 1, 1, 1, 0, 1, 1, 1, 1, 0, 1, 0, 1, 0, 1, 1, 1, 1, 1], Fitness: 870.0, Valor Total: 870.00, Peso Total: 14.90\n",
      "Cromossomo: [1, 1, 1, 1, 1, 0, 1, 1, 1, 1, 0, 1, 0, 1, 0, 1, 1, 1, 1, 1], Fitness: 870.0, Valor Total: 870.00, Peso Total: 14.90\n",
      "Cromossomo: [1, 1, 1, 1, 1, 0, 1, 1, 1, 1, 0, 1, 0, 1, 0, 1, 1, 1, 1, 1], Fitness: 870.0, Valor Total: 870.00, Peso Total: 14.90\n"
     ]
    }
   ],
   "source": [
    "# Lista melhores indivíduos\n",
    "print(\"Melhores indivíduos:\")\n",
    "for ind in top_individuals:\n",
    "    selected_items = [items[i] for i, gene in enumerate(ind[0]) if gene == 1]\n",
    "    total_value = sum(item[2] for item in selected_items)\n",
    "    total_weight = sum(item[3] for item in selected_items)\n",
    "    print(f\"Cromossomo: {ind[0]}, Fitness: {ind[1]}, Valor Total: {total_value:.2f}, Peso Total: {total_weight:.2f}\")"
   ]
  },
  {
   "cell_type": "markdown",
   "metadata": {},
   "source": [
    "## Resultados (Melhor indivíduo)"
   ]
  },
  {
   "cell_type": "code",
   "execution_count": 616,
   "metadata": {},
   "outputs": [
    {
     "name": "stdout",
     "output_type": "stream",
     "text": [
      "Cromossomo: ([1, 1, 1, 1, 1, 0, 1, 1, 1, 1, 0, 1, 0, 1, 0, 1, 1, 1, 1, 1], 870.0)\n"
     ]
    }
   ],
   "source": [
    "# Seleciona o melhor indivíduo.\n",
    "best_individual = top_individuals[0]\n",
    "print(\"Cromossomo:\", best_individual)"
   ]
  },
  {
   "cell_type": "code",
   "execution_count": 617,
   "metadata": {},
   "outputs": [],
   "source": [
    "# Identifica os itens selecionados no melhor indivíduo.\n",
    "selected_items = [items[i] for i, gene in enumerate(best_individual[0]) if gene == 1]\n",
    "total_value = sum(item[2] for item in selected_items)\n",
    "total_weight = sum(item[3] for item in selected_items)"
   ]
  },
  {
   "cell_type": "code",
   "execution_count": 618,
   "metadata": {},
   "outputs": [
    {
     "name": "stdout",
     "output_type": "stream",
     "text": [
      "Itens selecionados:\n"
     ]
    },
    {
     "data": {
      "text/html": [
       "<div>\n",
       "<style scoped>\n",
       "    .dataframe tbody tr th:only-of-type {\n",
       "        vertical-align: middle;\n",
       "    }\n",
       "\n",
       "    .dataframe tbody tr th {\n",
       "        vertical-align: top;\n",
       "    }\n",
       "\n",
       "    .dataframe thead th {\n",
       "        text-align: right;\n",
       "    }\n",
       "</style>\n",
       "<table border=\"1\" class=\"dataframe\">\n",
       "  <thead>\n",
       "    <tr style=\"text-align: right;\">\n",
       "      <th></th>\n",
       "      <th>Nome do item</th>\n",
       "      <th>Valor (R$)</th>\n",
       "      <th>Peso (kg)</th>\n",
       "    </tr>\n",
       "  </thead>\n",
       "  <tbody>\n",
       "    <tr>\n",
       "      <th>0</th>\n",
       "      <td>Barraca</td>\n",
       "      <td>150.0</td>\n",
       "      <td>3.5</td>\n",
       "    </tr>\n",
       "    <tr>\n",
       "      <th>1</th>\n",
       "      <td>Saco de dormir</td>\n",
       "      <td>100.0</td>\n",
       "      <td>2.0</td>\n",
       "    </tr>\n",
       "    <tr>\n",
       "      <th>2</th>\n",
       "      <td>Isolante térmico</td>\n",
       "      <td>50.0</td>\n",
       "      <td>0.5</td>\n",
       "    </tr>\n",
       "    <tr>\n",
       "      <th>3</th>\n",
       "      <td>Colchão inflável</td>\n",
       "      <td>80.0</td>\n",
       "      <td>1.0</td>\n",
       "    </tr>\n",
       "    <tr>\n",
       "      <th>4</th>\n",
       "      <td>Lanterna</td>\n",
       "      <td>30.0</td>\n",
       "      <td>0.2</td>\n",
       "    </tr>\n",
       "    <tr>\n",
       "      <th>5</th>\n",
       "      <td>Repelente de insetos</td>\n",
       "      <td>15.0</td>\n",
       "      <td>0.1</td>\n",
       "    </tr>\n",
       "    <tr>\n",
       "      <th>6</th>\n",
       "      <td>Protetor solar</td>\n",
       "      <td>20.0</td>\n",
       "      <td>0.2</td>\n",
       "    </tr>\n",
       "    <tr>\n",
       "      <th>7</th>\n",
       "      <td>Canivete</td>\n",
       "      <td>10.0</td>\n",
       "      <td>0.1</td>\n",
       "    </tr>\n",
       "    <tr>\n",
       "      <th>8</th>\n",
       "      <td>Mapa e bússola</td>\n",
       "      <td>25.0</td>\n",
       "      <td>0.3</td>\n",
       "    </tr>\n",
       "    <tr>\n",
       "      <th>9</th>\n",
       "      <td>Filtro de água</td>\n",
       "      <td>50.0</td>\n",
       "      <td>0.5</td>\n",
       "    </tr>\n",
       "    <tr>\n",
       "      <th>10</th>\n",
       "      <td>Fogão de camping</td>\n",
       "      <td>70.0</td>\n",
       "      <td>1.5</td>\n",
       "    </tr>\n",
       "    <tr>\n",
       "      <th>11</th>\n",
       "      <td>Prato, talheres e caneca</td>\n",
       "      <td>20.0</td>\n",
       "      <td>0.5</td>\n",
       "    </tr>\n",
       "    <tr>\n",
       "      <th>12</th>\n",
       "      <td>Roupas (conjunto)</td>\n",
       "      <td>80.0</td>\n",
       "      <td>1.5</td>\n",
       "    </tr>\n",
       "    <tr>\n",
       "      <th>13</th>\n",
       "      <td>Calçados (botas)</td>\n",
       "      <td>120.0</td>\n",
       "      <td>2.0</td>\n",
       "    </tr>\n",
       "    <tr>\n",
       "      <th>14</th>\n",
       "      <td>Toalha</td>\n",
       "      <td>20.0</td>\n",
       "      <td>0.5</td>\n",
       "    </tr>\n",
       "    <tr>\n",
       "      <th>15</th>\n",
       "      <td>Kit de higiene pessoal</td>\n",
       "      <td>30.0</td>\n",
       "      <td>0.5</td>\n",
       "    </tr>\n",
       "  </tbody>\n",
       "</table>\n",
       "</div>"
      ],
      "text/plain": [
       "                Nome do item  Valor (R$)  Peso (kg)\n",
       "0                    Barraca       150.0        3.5\n",
       "1             Saco de dormir       100.0        2.0\n",
       "2           Isolante térmico        50.0        0.5\n",
       "3           Colchão inflável        80.0        1.0\n",
       "4                   Lanterna        30.0        0.2\n",
       "5       Repelente de insetos        15.0        0.1\n",
       "6             Protetor solar        20.0        0.2\n",
       "7                   Canivete        10.0        0.1\n",
       "8             Mapa e bússola        25.0        0.3\n",
       "9             Filtro de água        50.0        0.5\n",
       "10          Fogão de camping        70.0        1.5\n",
       "11  Prato, talheres e caneca        20.0        0.5\n",
       "12         Roupas (conjunto)        80.0        1.5\n",
       "13          Calçados (botas)       120.0        2.0\n",
       "14                    Toalha        20.0        0.5\n",
       "15    Kit de higiene pessoal        30.0        0.5"
      ]
     },
     "execution_count": 618,
     "metadata": {},
     "output_type": "execute_result"
    }
   ],
   "source": [
    "# Criação do DataFrame com os itens selecionados pelo melhor indivíduo\n",
    "selected_items_data = [{\n",
    "    'Nome do item': item[1],\n",
    "    'Valor (R$)': item[2],\n",
    "    'Peso (kg)': item[3]\n",
    "} for item in selected_items]\n",
    "\n",
    "df_selected_items = pd.DataFrame(selected_items_data)\n",
    "\n",
    "print(\"Itens selecionados:\")\n",
    "df_selected_items.head(len(items))"
   ]
  },
  {
   "cell_type": "code",
   "execution_count": 619,
   "metadata": {},
   "outputs": [
    {
     "name": "stdout",
     "output_type": "stream",
     "text": [
      "Valor total: R$870.00\n"
     ]
    }
   ],
   "source": [
    "# Imprime o valor total dos itens na mochila.\n",
    "print(f\"Valor total: R${sum(item[2] for item in selected_items):.2f}\")"
   ]
  },
  {
   "cell_type": "code",
   "execution_count": 620,
   "metadata": {},
   "outputs": [
    {
     "name": "stdout",
     "output_type": "stream",
     "text": [
      "Peso total: 14.90kg\n"
     ]
    }
   ],
   "source": [
    "# Imprime o peso total dos itens na mochila.\n",
    "print(f\"Peso total: {sum(item[3] for item in selected_items):.2f}kg\")"
   ]
  },
  {
   "cell_type": "code",
   "execution_count": 621,
   "metadata": {},
   "outputs": [
    {
     "name": "stdout",
     "output_type": "stream",
     "text": [
      "Tempo de execução (evolução somente): 0.0410 segundos\n"
     ]
    }
   ],
   "source": [
    "# Imprime o tempo de execução\n",
    "print(f\"Tempo de execução (evolução somente): {execution_time:.4f} segundos\")"
   ]
  }
 ],
 "metadata": {
  "kernelspec": {
   "display_name": "scipy",
   "language": "python",
   "name": "python3"
  },
  "language_info": {
   "codemirror_mode": {
    "name": "ipython",
    "version": 3
   },
   "file_extension": ".py",
   "mimetype": "text/x-python",
   "name": "python",
   "nbconvert_exporter": "python",
   "pygments_lexer": "ipython3",
   "version": "3.11.9"
  }
 },
 "nbformat": 4,
 "nbformat_minor": 2
}
